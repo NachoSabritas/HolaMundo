{
  "nbformat": 4,
  "nbformat_minor": 0,
  "metadata": {
    "colab": {
      "provenance": [],
      "authorship_tag": "ABX9TyNabvkCsnb3P1hfO880D9Yc",
      "include_colab_link": true
    },
    "kernelspec": {
      "name": "python3",
      "display_name": "Python 3"
    },
    "language_info": {
      "name": "python"
    }
  },
  "cells": [
    {
      "cell_type": "markdown",
      "metadata": {
        "id": "view-in-github",
        "colab_type": "text"
      },
      "source": [
        "<a href=\"https://colab.research.google.com/github/NachoSabritas/HolaMundo/blob/main/2_Valore_Nulos.ipynb\" target=\"_parent\"><img src=\"https://colab.research.google.com/assets/colab-badge.svg\" alt=\"Open In Colab\"/></a>"
      ]
    },
    {
      "cell_type": "code",
      "source": [
        "#Importamos las librerias pandas, numpy y matplotlip respectivamente \n",
        "import pandas as pd\n",
        "import numpy as np\n",
        "import matplotlib.pyplot as plt"
      ],
      "metadata": {
        "id": "xrR2uyPAjZ45"
      },
      "execution_count": 1,
      "outputs": []
    },
    {
      "cell_type": "code",
      "execution_count": null,
      "metadata": {
        "id": "MDDeYbsJjOXh"
      },
      "outputs": [],
      "source": [
        "#Cargar aechivos csv desde equipo \n",
        "from google.colab import files \n",
        "files.upload()"
      ]
    },
    {
      "cell_type": "code",
      "source": [
        "#Cargar desde un archivo .csv sin indice\n",
        "data=pd.read_csv(\"inmuebles2.csv\")\n",
        "data.head(5)"
      ],
      "metadata": {
        "id": "_v8d2kG_lW0v"
      },
      "execution_count": null,
      "outputs": []
    },
    {
      "cell_type": "code",
      "source": [
        "#Eliminar primera fila o filas innecesarias \n",
        "data1= pd.read_csv(\"inmuebles2.csv\", skiprows=1, low_memory=False)\n",
        "data1"
      ],
      "metadata": {
        "id": "Ukumc48Ilkue"
      },
      "execution_count": null,
      "outputs": []
    },
    {
      "cell_type": "code",
      "source": [
        "#Eliminar columnas innecesarias \n",
        "data2= data1.drop(['0','Referencia'], axis=1)\n",
        "data2"
      ],
      "metadata": {
        "id": "MchzL9wTlsYi"
      },
      "execution_count": null,
      "outputs": []
    },
    {
      "cell_type": "code",
      "source": [
        "#Identificar valores nulos por columna\n",
        "Valore_nulos=data2.isnull().sum()\n",
        "Valore_nulos"
      ],
      "metadata": {
        "id": "CMRywtrbnETJ"
      },
      "execution_count": null,
      "outputs": []
    },
    {
      "cell_type": "code",
      "source": [
        "#Realizamos una copia del dataframe\n",
        "data3=data2.copy()"
      ],
      "metadata": {
        "id": "mocZYxXYoXGk"
      },
      "execution_count": 18,
      "outputs": []
    },
    {
      "cell_type": "code",
      "source": [
        "#Primer metodo de sustitucion de valores nulos\n",
        "#Sustituir valores nulos con promedio o media\n",
        "data3[\"Superficie\" ]=data3[\"Superficie\" ].fillna(round(data2[\"Superficie\"].mean(),1))"
      ],
      "metadata": {
        "id": "_3iGHdB8omFR"
      },
      "execution_count": 19,
      "outputs": []
    },
    {
      "cell_type": "code",
      "source": [
        "#Corroboramos valores nulos\n",
        "Valore_nulos=data3.isnull().sum()\n",
        "Valore_nulos"
      ],
      "metadata": {
        "id": "pAiYk_GOpIAN"
      },
      "execution_count": null,
      "outputs": []
    },
    {
      "cell_type": "code",
      "source": [
        "#Segundo metodode sustitucion de valores nulos\n",
        "#Sustituir valores nulos con mediana\n",
        "data3[\"Superficie\" ]=data3[\"Superficie\" ].fillna(round(data2[\"Superficie\"].median(),1))\n",
        "data3"
      ],
      "metadata": {
        "id": "xYuwM2UjqWJk"
      },
      "execution_count": null,
      "outputs": []
    },
    {
      "cell_type": "code",
      "source": [
        "#Corroboramos valores nulos\n",
        "Valore_nulos=data3.isnull().sum()\n",
        "Valore_nulos"
      ],
      "metadata": {
        "id": "t6FO6v_zqolj"
      },
      "execution_count": null,
      "outputs": []
    },
    {
      "cell_type": "code",
      "source": [
        "#Tercer metodo sustitucion de valores nulos\n",
        "#Sustituir valores nulos por valores numericos concretos\n",
        "data3[\"Fecha Alta\"]=data3[\"Fecha Alta\"].fillna(10)\n",
        "data3"
      ],
      "metadata": {
        "id": "8UgjsNCjq_qf"
      },
      "execution_count": null,
      "outputs": []
    },
    {
      "cell_type": "code",
      "source": [
        "#Corroboramos valores nulos\n",
        "Valore_nulos=data3.isnull().sum()\n",
        "Valore_nulos"
      ],
      "metadata": {
        "id": "YuOTWOW5ryzr"
      },
      "execution_count": null,
      "outputs": []
    },
    {
      "cell_type": "code",
      "source": [
        "#Cuarto metodo\n",
        "#Sustituir valores nulos por string en concreto\n",
        "data3[\"Fecha Venta\"] =data3[\"Fecha Venta\"].fillna(\"2030-06-19 00:00:00\")\n",
        "data3"
      ],
      "metadata": {
        "id": "fji5wCssrsEU"
      },
      "execution_count": null,
      "outputs": []
    },
    {
      "cell_type": "code",
      "source": [
        "#Corroboramos valores nulos\n",
        "Valore_nulos=data3.isnull().sum()\n",
        "Valore_nulos"
      ],
      "metadata": {
        "id": "LqnTsupRsbyp"
      },
      "execution_count": null,
      "outputs": []
    },
    {
      "cell_type": "code",
      "source": [
        "#Quinto metodo\n",
        "#Sustituir valores nulos por valores no nulos hacia adelante \"forward fill\"(\"ffill\")\n",
        "#Filtro por columnas\n",
        "data3[\"Tipo\"] =data3[\"Tipo\"].fillna(method=\"ffill\")\n",
        "data3"
      ],
      "metadata": {
        "id": "Vu9fHTT-tVl1"
      },
      "execution_count": null,
      "outputs": []
    },
    {
      "cell_type": "code",
      "source": [
        "#Corroboramos valores nulos\n",
        "Valore_nulos=data3.isnull().sum()\n",
        "Valore_nulos"
      ],
      "metadata": {
        "id": "JDc34j1Et1Ha"
      },
      "execution_count": null,
      "outputs": []
    },
    {
      "cell_type": "code",
      "source": [
        "#Sexto metodo\n",
        "#Sustituir valores nulos por valores no nulos hacia atras \"backward fill\"(\"bfill\")\n",
        "#Filtro por columnas\n",
        "data3[\"Operación\"] =data3[\"Operación\"].fillna(method=\"bfill\")\n",
        "data3"
      ],
      "metadata": {
        "id": "j5eaFN4rt1xh"
      },
      "execution_count": null,
      "outputs": []
    },
    {
      "cell_type": "code",
      "source": [
        "#Corroboramos valores nulos\n",
        "Valore_nulos=data3.isnull().sum()\n",
        "Valore_nulos"
      ],
      "metadata": {
        "id": "OSIZewxmuKpB"
      },
      "execution_count": null,
      "outputs": []
    },
    {
      "cell_type": "code",
      "source": [
        "#Septimo metodo\n",
        "#Sustituir valores nulos por valores no nulos hacia atras \"backward fill\"(\"bfill\")\n",
        "#Filtro por columnas\n",
        "data3[\"Provincia\"] =data3[\"Provincia\"].fillna(method=\"bfill\")\n",
        "data3"
      ],
      "metadata": {
        "id": "51F8suEwvTkY"
      },
      "execution_count": null,
      "outputs": []
    },
    {
      "cell_type": "code",
      "source": [
        "#Corroboramos valores nulos\n",
        "Valore_nulos=data3.isnull().sum()\n",
        "Valore_nulos"
      ],
      "metadata": {
        "id": "Uwslqobivd0T"
      },
      "execution_count": null,
      "outputs": []
    },
    {
      "cell_type": "code",
      "source": [
        "#Septimo metodo\n",
        "#Sustituir valores nulos por valores no nulos hacia atras \"backward fill\"(\"bfill\")\n",
        "#Filtro por columnas\n",
        "data3[\"Precio Venta\"] =data3[\"Precio Venta\"].fillna(method=\"bfill\")\n",
        "data3"
      ],
      "metadata": {
        "id": "VlsZBw0owMfD"
      },
      "execution_count": null,
      "outputs": []
    },
    {
      "cell_type": "code",
      "source": [
        "#Corroboramos valores nulos\n",
        "Valore_nulos=data3.isnull().sum()\n",
        "Valore_nulos"
      ],
      "metadata": {
        "id": "S7Oq7abCwVMe"
      },
      "execution_count": null,
      "outputs": []
    },
    {
      "cell_type": "code",
      "source": [
        "#Septimo metodo\n",
        "#Sustituir valores nulos por valores no nulos hacia atras \"backward fill\"(\"bfill\")\n",
        "#Filtro por columnas\n",
        "data3[\"Vendedor\"] =data3[\"Vendedor\"].fillna(method=\"ffill\")\n",
        "data3"
      ],
      "metadata": {
        "id": "kS1YDcqLvUyQ"
      },
      "execution_count": null,
      "outputs": []
    },
    {
      "cell_type": "code",
      "source": [
        "#Corroboramos valores nulos\n",
        "Valore_nulos=data3.isnull().sum()\n",
        "Valore_nulos"
      ],
      "metadata": {
        "id": "hIsNImwwvik8"
      },
      "execution_count": null,
      "outputs": []
    },
    {
      "cell_type": "code",
      "source": [
        "#Corroboramos valores nulos\n",
        "Valore_nulos=data3.isnull().sum().sum()\n",
        "Valore_nulos"
      ],
      "metadata": {
        "colab": {
          "base_uri": "https://localhost:8080/"
        },
        "id": "OWQ6UI1QuSCZ",
        "outputId": "e8d5bc4f-d59a-463d-a24d-5d4ae42629e2"
      },
      "execution_count": 73,
      "outputs": [
        {
          "output_type": "execute_result",
          "data": {
            "text/plain": [
              "0"
            ]
          },
          "metadata": {},
          "execution_count": 73
        }
      ]
    },
    {
      "cell_type": "code",
      "source": [
        "#Eliminacion de valores nulos"
      ],
      "metadata": {
        "id": "-rMm6i4pyLeW"
      },
      "execution_count": null,
      "outputs": []
    },
    {
      "cell_type": "code",
      "source": [
        "#Identificar valores nulos por columna\n",
        "Valore_nulos=data2.isnull().sum()\n",
        "Valore_nulos"
      ],
      "metadata": {
        "id": "2n_hEglQwbly"
      },
      "execution_count": null,
      "outputs": []
    },
    {
      "cell_type": "code",
      "source": [
        "#Realizamos una copia del dataframe\n",
        "data4=data2.copy()"
      ],
      "metadata": {
        "id": "GHks0RE0yKQ6"
      },
      "execution_count": 76,
      "outputs": []
    },
    {
      "cell_type": "code",
      "source": [
        "#Eliminamos filas con nulos\n",
        "data4=data2.dropna(0)\n",
        "data4"
      ],
      "metadata": {
        "id": "yYEKbUgryQYs"
      },
      "execution_count": null,
      "outputs": []
    },
    {
      "cell_type": "code",
      "source": [
        "#Corroboramos valores nulos\n",
        "Valore_nulos=data4.isnull().sum()\n",
        "Valore_nulos"
      ],
      "metadata": {
        "id": "of-76rrkyjzw"
      },
      "execution_count": null,
      "outputs": []
    },
    {
      "cell_type": "code",
      "source": [
        "#Comparamos dataframe3(Sustitucion) y dataframe4(Eliminacion)"
      ],
      "metadata": {
        "id": "DKw87u4Zy1Ud"
      },
      "execution_count": null,
      "outputs": []
    },
    {
      "cell_type": "code",
      "source": [
        "data3.info()"
      ],
      "metadata": {
        "id": "WTefa-REy7Vz"
      },
      "execution_count": null,
      "outputs": []
    },
    {
      "cell_type": "code",
      "source": [
        "data4.info()"
      ],
      "metadata": {
        "id": "4hZqzGuOzB7x"
      },
      "execution_count": null,
      "outputs": []
    },
    {
      "cell_type": "code",
      "source": [
        "#Convertimos DataSet sin valores nulos a csv"
      ],
      "metadata": {
        "id": "vzEPPlb0zSVl"
      },
      "execution_count": null,
      "outputs": []
    },
    {
      "cell_type": "code",
      "source": [
        "data3.to.csv(\"inmuebles_sin_nulos.csv\")"
      ],
      "metadata": {
        "id": "cZKqbNdjzXAM"
      },
      "execution_count": null,
      "outputs": []
    },
    {
      "cell_type": "code",
      "source": [
        "#Descargamos archivo en csv\n",
        "from google.colab import files\n",
        "files.download(\"inmuebles_sin_nulos.csv\")"
      ],
      "metadata": {
        "id": "GttKP8IqzgA3"
      },
      "execution_count": null,
      "outputs": []
    }
  ]
}